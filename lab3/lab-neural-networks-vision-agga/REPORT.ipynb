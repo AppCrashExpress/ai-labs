{
 "cells": [
  {
   "cell_type": "markdown",
   "id": "3f93f081",
   "metadata": {},
   "source": [
    "# Отчет по лабораторной работе \n",
    "## по курсу \"Искусственный интеллект\"\n",
    "\n",
    "## Нейросети для распознавания изображений\n",
    "\n",
    "\n",
    "### Студенты: \n",
    "\n",
    "| ФИО       | Роль в проекте                     | Оценка       |\n",
    "|-----------|------------------------------------|--------------|\n",
    "| Ефимов А.В. | Подготовил датасет |          |\n",
    "| Keras | Обучил нейросети |       |\n",
    "| Jupyter Notebook | Написал отчёт |      |\n",
    "\n",
    "## Результат проверки\n",
    "\n",
    "| Преподаватель     | Дата         |  Оценка       |\n",
    "|-------------------|--------------|---------------|\n",
    "| Сошников Д.В. |              |               |\n",
    "\n",
    "> *Комментарии проверяющих (обратите внимание, что более подробные комментарии возможны непосредственно в репозитории по тексту программы)*\n",
    "\n",
    "## Тема работы\n",
    "\n",
    "Подготовить набор данных: _Буквы Э, Ю, Я_ - и построить несколько нейросетевых классификаторов \n",
    "для распознавания рукописных символов.\n",
    "\n",
    "## Распределение работы в команде\n",
    "\n",
    ":)\n",
    "\n",
    "## Подготовка данных\n",
    "\n",
    "Перед созданием данным сам процесс можно структуризировать, а именно записывать все символы в \n",
    "клетки какой-либо сетки, например:\n",
    "\n",
    "<img src=\"img/template/graph-paper.jpg\" alt=\"input grid\" width=\"500\"/>\n",
    "\n",
    "Записывая символы в ячейки, можно отчетливо видеть разбиение. Например, для символа _Я_:\n",
    "\n",
    "<img src=\"img/original/scan-ya.jpg\" alt=\"ya scan\" width=\"500\"/>\n",
    "\n",
    "Для наименьшей потери качества (такое, как размытие, свет и т.д.) использован обычный принтерный сканер.\n",
    "Тогда на выходе получаем (почти) такой же лист, заполненный символами для обучения.\n",
    "\n",
    "Далее эти символы необходимо вызволить. Это можно сделать с помощью `OpenCV` пройдясь\n",
    "по картинке простым постоянным шагом, но еще удобнее воспользоваться той решеткой, в которую записаны все \n",
    "символы, просто вызволив все ячейки в отдельные картинки.\n",
    "\n",
    "Это можно сделать по следующему алгоритму:\n",
    "\n",
    "1. Входную картинку преобразовать в grayscale и в бинарную маску;\n",
    "1. На бинарной маске найти все контуры и вырезать все, площадь которых\n",
    "   меньше заданного значения (можно подобрать). В итоге должна остаться\n",
    "   только сетка, без символов и помех;\n",
    "1. Вырезанная сетка может быть плохого качества, тогда её нужно\n",
    "   утолщить и поправить (при пропуске этого шага можно получить мусорные \n",
    "   значения);\n",
    "1. Из маски положительных значений удалить маску решетки. Тогда остается\n",
    "   только маски ячеек и окружающего контура;\n",
    "1. Найти на этой маске все контуры и исключить те, которые больше заданного\n",
    "   значения (также можно подобрать) для исключения окружающего решетку контура;\n",
    "1. Все полученные контуры будут контурами ячеек. Для каждого из них можно \n",
    "   найти ограничивающий треугольник, вырезать его из grayscale картинки,\n",
    "   уменьшить до $32 \\times 32$ и вывести в новую картинку.\n",
    "\n",
    "Две заметки:\n",
    "\n",
    "1. Вырезаны могут быть картинки не только из grayscale, но и из оригинальной \n",
    "   фотографии, но так как интересует только форма, достаточно сохранить только\n",
    "   монотонную версию;\n",
    "1. Необходимо проверять, что вписанные символы не задевают решетку, иначе они\n",
    "   станут частью её контура и, соответственно, будут вырезаны;\n",
    "1. Итоговую картинку следует инвертировать: в оригинале символ имеет темные,\n",
    "   отрицательные значения, а границы положительные. Это сильно влияет на точность,\n",
    "   так как исключается сама форма и сохраняются границы, а нужно наоборот.\n",
    "   \n",
    "После всех преобразований итоговые картинки будут иметь вид:\n",
    "\n",
    "<img src=\"img/processed/scan-ya-processed.png\" alt=\"Processed ya scan\" width=\"500\"/>\n",
    "\n",
    "Или в сжатом, единичном формате:\n",
    "\n",
    "![Small sample](img/splits/ya/split1.png)\n",
    "\n",
    "Эти действия повторяются для каждого из интересующих листов.\n",
    "\n",
    "Стоит заметить, что такой алгоритм __не__ исключает пустые ячейки, и для этого нужно\n",
    "либо его расширять, либо удалять их вручную."
   ]
  },
  {
   "cell_type": "markdown",
   "id": "db00835c",
   "metadata": {},
   "source": [
    "## Загрузка данных\n",
    "\n",
    "Перед вступлением в программную часть сначала следует загрузить все используемые библиотеки:"
   ]
  },
  {
   "cell_type": "code",
   "execution_count": 1,
   "id": "09fc98d0",
   "metadata": {},
   "outputs": [],
   "source": [
    "import tensorflow as tf\n",
    "from tensorflow import keras\n",
    "\n",
    "from keras.models import Sequential\n",
    "from keras import layers"
   ]
  },
  {
   "cell_type": "markdown",
   "id": "ed99503a",
   "metadata": {},
   "source": [
    "И некоторые гиперпараметры: "
   ]
  },
  {
   "cell_type": "code",
   "execution_count": 2,
   "id": "18111b54",
   "metadata": {},
   "outputs": [],
   "source": [
    "img_size = (32, 32)\n",
    "batch_size = 64\n",
    "num_epochs = 20\n",
    "hidden_size = 512"
   ]
  },
  {
   "cell_type": "markdown",
   "id": "0b8c3c12",
   "metadata": {},
   "source": [
    "Директория с картинками имеет структуру:\n",
    "\n",
    "* splits\n",
    "  * ya\n",
    "    * split1.png\n",
    "    * split2.png\n",
    "    * ...\n",
    "  * ye\n",
    "    * split1.png\n",
    "    * split2.png\n",
    "    * ...\n",
    "  * yu\n",
    "    * split1.png\n",
    "    * split2.png\n",
    "    * ...\n",
    "\n",
    "Все картинки можно загрузить из директории за два прохода: для обучающей и тестирующей выборок - \n",
    "с помощью фукнции `image_dataset_from_directory`, которая каждую поддиректорию считает за отдельный класс."
   ]
  },
  {
   "cell_type": "code",
   "execution_count": 3,
   "id": "7040dac5",
   "metadata": {},
   "outputs": [
    {
     "name": "stdout",
     "output_type": "stream",
     "text": [
      "Found 1596 files belonging to 3 classes.\n",
      "Using 1277 files for training.\n",
      "Found 1596 files belonging to 3 classes.\n",
      "Using 319 files for validation.\n",
      "Feats: (64, 32, 32, 1)\n",
      "Labels: (64,)\n",
      "tf.Tensor(\n",
      "[2 2 0 2 1 1 0 0 2 1 2 1 2 2 1 1 0 2 2 1 2 2 0 0 2 0 1 0 2 0 0 1 2 1 1 2 0\n",
      " 0 0 0 2 1 1 0 2 1 2 2 1 0 0 1 0 1 2 2 0 0 2 0 2 2 0 0], shape=(64,), dtype=int32)\n"
     ]
    }
   ],
   "source": [
    "seed = 101 # Needed for validation split\n",
    "validation_perc = 0.2\n",
    "data_folder = \"img/splits\"\n",
    "\n",
    "train_ds = keras.preprocessing.image_dataset_from_directory(\n",
    "    data_folder, \n",
    "    batch_size=batch_size,\n",
    "    color_mode=\"grayscale\",\n",
    "    image_size=img_size,\n",
    "    seed=seed,\n",
    "    validation_split=validation_perc, \n",
    "    subset='training')\n",
    "valid_ds = keras.preprocessing.image_dataset_from_directory(\n",
    "    data_folder, \n",
    "    batch_size=batch_size,\n",
    "    color_mode=\"grayscale\",\n",
    "    image_size=img_size,\n",
    "    seed=seed,\n",
    "    validation_split=validation_perc, \n",
    "    subset='validation')\n",
    "\n",
    "data_example = next(iter(train_ds))\n",
    "print(\"Feats:\", data_example[0].shape) \n",
    "print(\"Labels:\", data_example[1].shape)\n",
    "print(data_example[1])"
   ]
  },
  {
   "cell_type": "markdown",
   "id": "a63c6e91",
   "metadata": {},
   "source": [
    "Стандартно, эта функция сразу перемешивает входные данные."
   ]
  },
  {
   "cell_type": "markdown",
   "id": "cf63b05e",
   "metadata": {},
   "source": [
    "## Обучение нейросети\n",
    "### Полносвязная однослойная сеть"
   ]
  },
  {
   "cell_type": "code",
   "execution_count": 4,
   "id": "9831afa1",
   "metadata": {},
   "outputs": [
    {
     "name": "stdout",
     "output_type": "stream",
     "text": [
      "Epoch 1/20\n",
      "20/20 [==============================] - 15s 17ms/step - loss: 20.6052 - accuracy: 0.4377 - val_loss: 3.9136 - val_accuracy: 0.7712\n",
      "Epoch 2/20\n",
      "20/20 [==============================] - 0s 3ms/step - loss: 2.2827 - accuracy: 0.8525 - val_loss: 1.9789 - val_accuracy: 0.9122\n",
      "Epoch 3/20\n",
      "20/20 [==============================] - 0s 3ms/step - loss: 1.7014 - accuracy: 0.9167 - val_loss: 1.5613 - val_accuracy: 0.9154\n",
      "Epoch 4/20\n",
      "20/20 [==============================] - 0s 3ms/step - loss: 0.8566 - accuracy: 0.9508 - val_loss: 1.2283 - val_accuracy: 0.9310\n",
      "Epoch 5/20\n",
      "20/20 [==============================] - 0s 3ms/step - loss: 0.7914 - accuracy: 0.9497 - val_loss: 1.0485 - val_accuracy: 0.9342\n",
      "Epoch 6/20\n",
      "20/20 [==============================] - 0s 3ms/step - loss: 0.5587 - accuracy: 0.9589 - val_loss: 0.8190 - val_accuracy: 0.9342\n",
      "Epoch 7/20\n",
      "20/20 [==============================] - 0s 3ms/step - loss: 0.2993 - accuracy: 0.9729 - val_loss: 0.7704 - val_accuracy: 0.9310\n",
      "Epoch 8/20\n",
      "20/20 [==============================] - 0s 3ms/step - loss: 0.3647 - accuracy: 0.9676 - val_loss: 0.7123 - val_accuracy: 0.9373\n",
      "Epoch 9/20\n",
      "20/20 [==============================] - 0s 3ms/step - loss: 0.2466 - accuracy: 0.9788 - val_loss: 0.6404 - val_accuracy: 0.9530\n",
      "Epoch 10/20\n",
      "20/20 [==============================] - 0s 3ms/step - loss: 0.1829 - accuracy: 0.9807 - val_loss: 0.5778 - val_accuracy: 0.9530\n",
      "Epoch 11/20\n",
      "20/20 [==============================] - 0s 3ms/step - loss: 0.1339 - accuracy: 0.9873 - val_loss: 0.5847 - val_accuracy: 0.9498\n",
      "Epoch 12/20\n",
      "20/20 [==============================] - 0s 3ms/step - loss: 0.0727 - accuracy: 0.9898 - val_loss: 0.5581 - val_accuracy: 0.9530\n",
      "Epoch 13/20\n",
      "20/20 [==============================] - 0s 3ms/step - loss: 0.1110 - accuracy: 0.9852 - val_loss: 0.5336 - val_accuracy: 0.9561\n",
      "Epoch 14/20\n",
      "20/20 [==============================] - 0s 3ms/step - loss: 0.0199 - accuracy: 0.9952 - val_loss: 0.5375 - val_accuracy: 0.9561\n",
      "Epoch 15/20\n",
      "20/20 [==============================] - 0s 3ms/step - loss: 0.0493 - accuracy: 0.9868 - val_loss: 0.5588 - val_accuracy: 0.9624\n",
      "Epoch 16/20\n",
      "20/20 [==============================] - 0s 3ms/step - loss: 0.0772 - accuracy: 0.9828 - val_loss: 0.4761 - val_accuracy: 0.9561\n",
      "Epoch 17/20\n",
      "20/20 [==============================] - 0s 3ms/step - loss: 0.0262 - accuracy: 0.9953 - val_loss: 0.4621 - val_accuracy: 0.9592\n",
      "Epoch 18/20\n",
      "20/20 [==============================] - 0s 3ms/step - loss: 0.0085 - accuracy: 0.9984 - val_loss: 0.5138 - val_accuracy: 0.9467\n",
      "Epoch 19/20\n",
      "20/20 [==============================] - 0s 3ms/step - loss: 0.0501 - accuracy: 0.9874 - val_loss: 0.4493 - val_accuracy: 0.9467\n",
      "Epoch 20/20\n",
      "20/20 [==============================] - 0s 3ms/step - loss: 0.0238 - accuracy: 0.9927 - val_loss: 0.4869 - val_accuracy: 0.9687\n"
     ]
    },
    {
     "data": {
      "text/plain": [
       "<keras.callbacks.History at 0x7f593c29e910>"
      ]
     },
     "execution_count": 4,
     "metadata": {},
     "output_type": "execute_result"
    }
   ],
   "source": [
    "model = Sequential()\n",
    "model.add(layers.Flatten())\n",
    "model.add(layers.Normalization())\n",
    "model.add(layers.Dense(3, activation='softmax'))\n",
    "model.compile(optimizer='Adam',\n",
    "              loss=tf.keras.losses.SparseCategoricalCrossentropy(),\n",
    "              metrics=['accuracy'])\n",
    "model.fit(train_ds, validation_data=valid_ds, epochs=num_epochs)"
   ]
  },
  {
   "cell_type": "markdown",
   "id": "f7827174",
   "metadata": {},
   "source": [
    "Так как входные данные достаточно одинаковые, то уже на однослойной сети достигается \n",
    "высокая точность в $96.87\\%$."
   ]
  },
  {
   "cell_type": "markdown",
   "id": "a3ff28dd",
   "metadata": {},
   "source": [
    "### Полносвязная многослойная сеть"
   ]
  },
  {
   "cell_type": "markdown",
   "id": "324c1ca4",
   "metadata": {},
   "source": [
    "Но на этом можно не останавливаться и построить сеть, достигающую высокую точность \n",
    "за меньшее количество итераций:"
   ]
  },
  {
   "cell_type": "code",
   "execution_count": 5,
   "id": "3ed05d70",
   "metadata": {},
   "outputs": [
    {
     "name": "stdout",
     "output_type": "stream",
     "text": [
      "Model: \"sequential_1\"\n",
      "_________________________________________________________________\n",
      "Layer (type)                 Output Shape              Param #   \n",
      "=================================================================\n",
      "flatten_1 (Flatten)          (None, 1024)              0         \n",
      "_________________________________________________________________\n",
      "normalization_1 (Normalizati (None, 1024)              2049      \n",
      "_________________________________________________________________\n",
      "dense_1 (Dense)              (None, 512)               524800    \n",
      "_________________________________________________________________\n",
      "dense_2 (Dense)              (None, 512)               262656    \n",
      "_________________________________________________________________\n",
      "dense_3 (Dense)              (None, 3)                 1539      \n",
      "=================================================================\n",
      "Total params: 791,044\n",
      "Trainable params: 788,995\n",
      "Non-trainable params: 2,049\n",
      "_________________________________________________________________\n"
     ]
    }
   ],
   "source": [
    "model = Sequential()\n",
    "model.add(layers.Flatten(input_shape=(*img_size, 1)))\n",
    "model.add(layers.Normalization())\n",
    "model.add(layers.Dense(hidden_size, activation='relu'))\n",
    "model.add(layers.Dense(hidden_size, activation='relu'))\n",
    "model.add(layers.Dense(3, activation='softmax'))\n",
    "\n",
    "model.compile(optimizer='Adam',\n",
    "              loss=tf.keras.losses.SparseCategoricalCrossentropy(),\n",
    "              metrics=['accuracy'])\n",
    "model.summary()"
   ]
  },
  {
   "cell_type": "markdown",
   "id": "e4e07b60",
   "metadata": {},
   "source": [
    "Эта сеть состоит из 5 слоев:\n",
    "* Первые два слоя нужные для сжатия входных данных и их нормализации из\n",
    "  $[0, 255]$ в $[-1, 1]$. Их параметры необучаемые (зависят только от входных данных)\n",
    "  или отсутствуют вовсе.\n",
    "* Следующие два слоя содержут простые линейные функции с активационными функциями `ReLU`.\n",
    "  Матрица весов первого имеет $(1024 + 1) * 512 = 524800$, второго $(512 + 1) * 512 = 262656$\n",
    "  (один прибавляется для учитывания bias).\n",
    "* Последний также простой полносвязный, но с активационной функций `Softmax`, отображающей\n",
    "  значения нейросети в классы. Матрица весов - $(512 + 1) * 3 = 1539$\n",
    "\n",
    "За функцию потерь взята `CrossEntropy` функция, работающая на int категориях.\n",
    "Оптимизатор Адама."
   ]
  },
  {
   "cell_type": "code",
   "execution_count": 6,
   "id": "b5881287",
   "metadata": {},
   "outputs": [
    {
     "name": "stdout",
     "output_type": "stream",
     "text": [
      "Epoch 1/20\n",
      "20/20 [==============================] - 1s 15ms/step - loss: 16.6523 - accuracy: 0.5958 - val_loss: 1.1436 - val_accuracy: 0.9687\n",
      "Epoch 2/20\n",
      "20/20 [==============================] - 0s 7ms/step - loss: 0.6996 - accuracy: 0.9608 - val_loss: 0.2469 - val_accuracy: 0.9812\n",
      "Epoch 3/20\n",
      "20/20 [==============================] - 0s 6ms/step - loss: 0.1572 - accuracy: 0.9873 - val_loss: 0.2915 - val_accuracy: 0.9812\n",
      "Epoch 4/20\n",
      "20/20 [==============================] - 0s 7ms/step - loss: 0.0485 - accuracy: 0.9909 - val_loss: 0.0967 - val_accuracy: 0.9906\n",
      "Epoch 5/20\n",
      "20/20 [==============================] - 0s 7ms/step - loss: 3.7983e-04 - accuracy: 1.0000 - val_loss: 0.0962 - val_accuracy: 0.9843\n",
      "Epoch 6/20\n",
      "20/20 [==============================] - 0s 6ms/step - loss: 4.2361e-05 - accuracy: 1.0000 - val_loss: 0.0969 - val_accuracy: 0.9843\n",
      "Epoch 7/20\n",
      "20/20 [==============================] - 0s 7ms/step - loss: 5.9329e-06 - accuracy: 1.0000 - val_loss: 0.0960 - val_accuracy: 0.9843\n",
      "Epoch 8/20\n",
      "20/20 [==============================] - 0s 7ms/step - loss: 5.9795e-06 - accuracy: 1.0000 - val_loss: 0.0957 - val_accuracy: 0.9843\n",
      "Epoch 9/20\n",
      "20/20 [==============================] - 0s 8ms/step - loss: 9.7990e-06 - accuracy: 1.0000 - val_loss: 0.0955 - val_accuracy: 0.9843\n",
      "Epoch 10/20\n",
      "20/20 [==============================] - 0s 8ms/step - loss: 8.3245e-06 - accuracy: 1.0000 - val_loss: 0.0949 - val_accuracy: 0.9843\n",
      "Epoch 11/20\n",
      "20/20 [==============================] - 0s 7ms/step - loss: 4.5087e-06 - accuracy: 1.0000 - val_loss: 0.0940 - val_accuracy: 0.9843\n",
      "Epoch 12/20\n",
      "20/20 [==============================] - 0s 7ms/step - loss: 4.4287e-06 - accuracy: 1.0000 - val_loss: 0.0939 - val_accuracy: 0.9843\n",
      "Epoch 13/20\n",
      "20/20 [==============================] - 0s 7ms/step - loss: 7.5031e-06 - accuracy: 1.0000 - val_loss: 0.0935 - val_accuracy: 0.9843\n",
      "Epoch 14/20\n",
      "20/20 [==============================] - 0s 7ms/step - loss: 4.3797e-06 - accuracy: 1.0000 - val_loss: 0.0929 - val_accuracy: 0.9843\n",
      "Epoch 15/20\n",
      "20/20 [==============================] - 0s 7ms/step - loss: 3.0759e-06 - accuracy: 1.0000 - val_loss: 0.0925 - val_accuracy: 0.9843\n",
      "Epoch 16/20\n",
      "20/20 [==============================] - 0s 8ms/step - loss: 2.4956e-06 - accuracy: 1.0000 - val_loss: 0.0920 - val_accuracy: 0.9843\n",
      "Epoch 17/20\n",
      "20/20 [==============================] - 0s 7ms/step - loss: 2.3646e-06 - accuracy: 1.0000 - val_loss: 0.0914 - val_accuracy: 0.9843\n",
      "Epoch 18/20\n",
      "20/20 [==============================] - 0s 7ms/step - loss: 4.1337e-06 - accuracy: 1.0000 - val_loss: 0.0912 - val_accuracy: 0.9843\n",
      "Epoch 19/20\n",
      "20/20 [==============================] - 0s 8ms/step - loss: 5.4844e-06 - accuracy: 1.0000 - val_loss: 0.0907 - val_accuracy: 0.9843\n",
      "Epoch 20/20\n",
      "20/20 [==============================] - 0s 7ms/step - loss: 3.4865e-06 - accuracy: 1.0000 - val_loss: 0.0904 - val_accuracy: 0.9843\n"
     ]
    },
    {
     "data": {
      "text/plain": [
       "<keras.callbacks.History at 0x7f58a5d12e80>"
      ]
     },
     "execution_count": 6,
     "metadata": {},
     "output_type": "execute_result"
    }
   ],
   "source": [
    "model.fit(train_ds, validation_data=valid_ds, epochs=num_epochs)"
   ]
  },
  {
   "cell_type": "markdown",
   "id": "1fb5006b",
   "metadata": {},
   "source": [
    "Точность многослойной сети стала равна однослойной уже на первой эпохе и продолжала расти."
   ]
  },
  {
   "cell_type": "markdown",
   "id": "f950024b",
   "metadata": {},
   "source": [
    "### Свёрточная сеть"
   ]
  },
  {
   "cell_type": "markdown",
   "id": "941a9039",
   "metadata": {},
   "source": [
    "Но зачем останавливаться на многосвязанных сетях (хотя стоит), если можно ускорить обучение \n",
    "за счет учитывания особенностей самих букв."
   ]
  },
  {
   "cell_type": "code",
   "execution_count": 7,
   "id": "14d4e197",
   "metadata": {},
   "outputs": [
    {
     "name": "stdout",
     "output_type": "stream",
     "text": [
      "Model: \"sequential_2\"\n",
      "_________________________________________________________________\n",
      "Layer (type)                 Output Shape              Param #   \n",
      "=================================================================\n",
      "normalization_2 (Normalizati (None, 32, 32, 1)         3         \n",
      "_________________________________________________________________\n",
      "conv2d (Conv2D)              (None, 28, 28, 8)         208       \n",
      "_________________________________________________________________\n",
      "max_pooling2d (MaxPooling2D) (None, 14, 14, 8)         0         \n",
      "_________________________________________________________________\n",
      "conv2d_1 (Conv2D)            (None, 10, 10, 16)        3216      \n",
      "_________________________________________________________________\n",
      "max_pooling2d_1 (MaxPooling2 (None, 5, 5, 16)          0         \n",
      "_________________________________________________________________\n",
      "flatten_2 (Flatten)          (None, 400)               0         \n",
      "_________________________________________________________________\n",
      "dense_4 (Dense)              (None, 128)               51328     \n",
      "_________________________________________________________________\n",
      "dense_5 (Dense)              (None, 3)                 387       \n",
      "=================================================================\n",
      "Total params: 55,142\n",
      "Trainable params: 55,139\n",
      "Non-trainable params: 3\n",
      "_________________________________________________________________\n"
     ]
    }
   ],
   "source": [
    "cnn_model = Sequential()\n",
    "cnn_model.add(layers.Normalization(input_shape=(*img_size, 1)))\n",
    "cnn_model.add(layers.Conv2D(8, 5, padding='valid', activation='relu'))\n",
    "cnn_model.add(layers.MaxPooling2D())\n",
    "cnn_model.add(layers.Conv2D(16, 5, padding='valid', activation='relu'))\n",
    "cnn_model.add(layers.MaxPooling2D())\n",
    "cnn_model.add(layers.Flatten())\n",
    "cnn_model.add(layers.Dense(128, activation='relu'))\n",
    "cnn_model.add(layers.Dense(3, activation='softmax'))\n",
    "\n",
    "cnn_model.compile(optimizer='Adam',\n",
    "                  loss=tf.keras.losses.SparseCategoricalCrossentropy(),\n",
    "                  metrics=['accuracy'])\n",
    "cnn_model.summary()"
   ]
  },
  {
   "cell_type": "markdown",
   "id": "3848298d",
   "metadata": {},
   "source": [
    "Слои:\n",
    "* Первый слой - нормализующий (не тренируется)\n",
    "* Второй слой - ищет особенности / строит карту особенностей для входных значений\n",
    "* Третий слой - бъет входящие карты на квадраты (2,2) и возвращает карту из максимумов\n",
    "  этих квадратов (нужен для сокращения обучающих параметров и упрощения модели)\n",
    "  (не тренируется)\n",
    "* Четвертый и пятый слои - тоже самое, что и второй и третий, но уже на выведенных\n",
    "  ими картах особенностей\n",
    "\n",
    "Остальные слои схожи с многосвязанной сетью, которой на вход поступают не картинки, \n",
    "а карты обнаруженных в них особенностей."
   ]
  },
  {
   "cell_type": "code",
   "execution_count": 8,
   "id": "41a92de5",
   "metadata": {},
   "outputs": [
    {
     "name": "stdout",
     "output_type": "stream",
     "text": [
      "Epoch 1/20\n",
      "20/20 [==============================] - 2s 23ms/step - loss: 2.4652 - accuracy: 0.7181 - val_loss: 0.1885 - val_accuracy: 0.9781\n",
      "Epoch 2/20\n",
      "20/20 [==============================] - 0s 12ms/step - loss: 0.1711 - accuracy: 0.9684 - val_loss: 0.0570 - val_accuracy: 0.9875\n",
      "Epoch 3/20\n",
      "20/20 [==============================] - 0s 13ms/step - loss: 0.0236 - accuracy: 0.9915 - val_loss: 0.0166 - val_accuracy: 0.9969\n",
      "Epoch 4/20\n",
      "20/20 [==============================] - 0s 13ms/step - loss: 0.0048 - accuracy: 0.9993 - val_loss: 0.0201 - val_accuracy: 0.9969\n",
      "Epoch 5/20\n",
      "20/20 [==============================] - 0s 13ms/step - loss: 0.0020 - accuracy: 0.9999 - val_loss: 0.0221 - val_accuracy: 0.9969\n",
      "Epoch 6/20\n",
      "20/20 [==============================] - 0s 13ms/step - loss: 0.0017 - accuracy: 1.0000 - val_loss: 0.0256 - val_accuracy: 0.9969\n",
      "Epoch 7/20\n",
      "20/20 [==============================] - 0s 13ms/step - loss: 8.8125e-04 - accuracy: 1.0000 - val_loss: 0.0197 - val_accuracy: 0.9969\n",
      "Epoch 8/20\n",
      "20/20 [==============================] - 0s 13ms/step - loss: 6.0370e-04 - accuracy: 1.0000 - val_loss: 0.0236 - val_accuracy: 0.9969\n",
      "Epoch 9/20\n",
      "20/20 [==============================] - 0s 13ms/step - loss: 4.8046e-04 - accuracy: 1.0000 - val_loss: 0.0224 - val_accuracy: 0.9969\n",
      "Epoch 10/20\n",
      "20/20 [==============================] - 0s 13ms/step - loss: 4.3674e-04 - accuracy: 1.0000 - val_loss: 0.0222 - val_accuracy: 0.9969\n",
      "Epoch 11/20\n",
      "20/20 [==============================] - 0s 13ms/step - loss: 3.4775e-04 - accuracy: 1.0000 - val_loss: 0.0237 - val_accuracy: 0.9969\n",
      "Epoch 12/20\n",
      "20/20 [==============================] - 0s 13ms/step - loss: 2.5160e-04 - accuracy: 1.0000 - val_loss: 0.0236 - val_accuracy: 0.9969\n",
      "Epoch 13/20\n",
      "20/20 [==============================] - 0s 14ms/step - loss: 2.2700e-04 - accuracy: 1.0000 - val_loss: 0.0227 - val_accuracy: 0.9969\n",
      "Epoch 14/20\n",
      "20/20 [==============================] - 0s 13ms/step - loss: 2.7351e-04 - accuracy: 1.0000 - val_loss: 0.0234 - val_accuracy: 0.9969\n",
      "Epoch 15/20\n",
      "20/20 [==============================] - 0s 15ms/step - loss: 2.8161e-04 - accuracy: 1.0000 - val_loss: 0.0235 - val_accuracy: 0.9969\n",
      "Epoch 16/20\n",
      "20/20 [==============================] - 0s 15ms/step - loss: 1.8811e-04 - accuracy: 1.0000 - val_loss: 0.0235 - val_accuracy: 0.9969\n",
      "Epoch 17/20\n",
      "20/20 [==============================] - 0s 16ms/step - loss: 2.3036e-04 - accuracy: 1.0000 - val_loss: 0.0239 - val_accuracy: 0.9969\n",
      "Epoch 18/20\n",
      "20/20 [==============================] - 0s 15ms/step - loss: 1.7428e-04 - accuracy: 1.0000 - val_loss: 0.0235 - val_accuracy: 0.9969\n",
      "Epoch 19/20\n",
      "20/20 [==============================] - 0s 14ms/step - loss: 1.8504e-04 - accuracy: 1.0000 - val_loss: 0.0240 - val_accuracy: 0.9969\n",
      "Epoch 20/20\n",
      "20/20 [==============================] - 0s 12ms/step - loss: 1.5641e-04 - accuracy: 1.0000 - val_loss: 0.0241 - val_accuracy: 0.9969\n"
     ]
    },
    {
     "data": {
      "text/plain": [
       "<keras.callbacks.History at 0x7f59f01d6c40>"
      ]
     },
     "execution_count": 8,
     "metadata": {},
     "output_type": "execute_result"
    }
   ],
   "source": [
    "cnn_model.fit(train_ds, validation_data=valid_ds, epochs=num_epochs)"
   ]
  },
  {
   "cell_type": "markdown",
   "id": "c565855b",
   "metadata": {},
   "source": [
    "Предельно максимальная точность достигнута за три эпохи, что значительно лучше первых двух моделей,\n",
    "причем скорость практически не падает, возможно из-за маленьких размеров датасета."
   ]
  },
  {
   "cell_type": "markdown",
   "id": "cb1d03d7",
   "metadata": {},
   "source": [
    "## Вывод"
   ]
  },
  {
   "cell_type": "markdown",
   "id": "ce11a811",
   "metadata": {},
   "source": [
    "Так как работа с данными почти ни чем не отличается от предыдущих лабораторных работ, \n",
    "то выводы по созданию собственного датасета:\n",
    "* `OpenCV` - мощная библиотека, позволяющая настроить конвейер от скана листа бумаги с \n",
    "  решеткой до множества картинок с содержимым её ячеек (автоматический фотошоп);\n",
    "* `Keras` имеет метод быстрой загрузки и классификации картинок при условии, что они\n",
    "  корректно разделены по папкам;\n",
    "* Однослойная сеть имеет подозрительно высокую точность. Возможно датасет, написанный\n",
    "  одним человеком, распознается достаточно легко даже если почерк пытаться менять."
   ]
  }
 ],
 "metadata": {
  "kernelspec": {
   "display_name": "Python 3",
   "language": "python",
   "name": "python3"
  },
  "language_info": {
   "codemirror_mode": {
    "name": "ipython",
    "version": 3
   },
   "file_extension": ".py",
   "mimetype": "text/x-python",
   "name": "python",
   "nbconvert_exporter": "python",
   "pygments_lexer": "ipython3",
   "version": "3.9.5"
  }
 },
 "nbformat": 4,
 "nbformat_minor": 5
}
