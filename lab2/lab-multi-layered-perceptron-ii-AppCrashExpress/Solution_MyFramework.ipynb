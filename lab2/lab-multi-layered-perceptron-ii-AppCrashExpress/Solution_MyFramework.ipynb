{
 "cells": [
  {
   "cell_type": "markdown",
   "metadata": {},
   "source": [
    "## Лабораторная работа по курсу \"Искусственный интеллект\"\n",
    "## Многослойный персептрон\n",
    "\n",
    "| Студент |  Ефимов  |\n",
    "|---------|----------|\n",
    "| Группа  | М8О-307Б |\n",
    "\n",
    "Используемый датасет представляет собой множество написанных вручную цифр, от 0 до 9 включительно, и доступен [по ссылке](https://raw.githubusercontent.com/shwars/NeuroWorkshop/master/Data/MNIST/mnist.pkl.gz)."
   ]
  },
  {
   "cell_type": "code",
   "execution_count": 1,
   "metadata": {
    "tags": []
   },
   "outputs": [],
   "source": [
    "data_folder = \"data/mnist/\"\n",
    "# !curl -o {data_folder + \"mnist.pkl.gz\"} https://raw.githubusercontent.com/shwars/NeuroWorkshop/master/Data/MNIST/mnist.pkl.gz\n",
    "# !gzip -d {data_folder + \"mnist.pkl.gz\"}"
   ]
  },
  {
   "cell_type": "markdown",
   "metadata": {},
   "source": [
    "Перед загрузкой данных следует заранее добавить все используемые библиотеки:"
   ]
  },
  {
   "cell_type": "code",
   "execution_count": 2,
   "metadata": {},
   "outputs": [],
   "source": [
    "import numpy as np\n",
    "import pandas as pd\n",
    "import pickle\n",
    "import matplotlib.pyplot as plt \n",
    "from sklearn.model_selection import train_test_split\n",
    "from sklearn.metrics         import confusion_matrix, ConfusionMatrixDisplay   \n",
    "\n",
    "# Custom libraries\n",
    "from deeplearn.layers   import Layer, Softmax, CrossEntropyLoss\n",
    "from deeplearn.nnetwork import NeuralNetwork"
   ]
  },
  {
   "cell_type": "markdown",
   "metadata": {},
   "source": [
    "Собственно сама загрузка данных:"
   ]
  },
  {
   "cell_type": "code",
   "execution_count": 3,
   "metadata": {},
   "outputs": [],
   "source": [
    "import pickle\n",
    "with open(data_folder + 'mnist.pkl','rb') as f:\n",
    "    MNIST = pickle.load(f)"
   ]
  },
  {
   "cell_type": "markdown",
   "metadata": {},
   "source": [
    "В переменной `MNIST` под ключем `Train` содержатся данные, разделенные на особенности и метки соответственно, но в ней нет данных для тестирования. Их можно сразу разделить: "
   ]
  },
  {
   "cell_type": "code",
   "execution_count": 4,
   "metadata": {},
   "outputs": [
    {
     "data": {
      "text/plain": [
       "(29400, 784)"
      ]
     },
     "execution_count": 4,
     "metadata": {},
     "output_type": "execute_result"
    }
   ],
   "source": [
    "X_train, X_test, y_train, y_test = train_test_split(\n",
    "    np.array(MNIST['Train']['Features'].astype(np.float32) / 255),\n",
    "    np.array(MNIST['Train']['Labels']),\n",
    "    test_size=0.3)\n",
    "\n",
    "X_train.shape"
   ]
  },
  {
   "cell_type": "markdown",
   "metadata": {},
   "source": [
    "Особенности нормализуются сразу (делением на $255$)."
   ]
  },
  {
   "cell_type": "markdown",
   "metadata": {},
   "source": [
    "Создание и конфигурация нейронной сети:"
   ]
  },
  {
   "cell_type": "code",
   "execution_count": 5,
   "metadata": {},
   "outputs": [],
   "source": [
    "nnet = NeuralNetwork()\n",
    "nnet.configure(epoch=10, learning_rate=0.03, batch_size=5)\n",
    "nnet.add_layer(Layer(784, 10))\n",
    "nnet.add_layer(Softmax())"
   ]
  },
  {
   "cell_type": "code",
   "execution_count": 6,
   "metadata": {},
   "outputs": [
    {
     "name": "stdout",
     "output_type": "stream",
     "text": [
      "CPU times: user 6.38 s, sys: 16.4 ms, total: 6.4 s\n",
      "Wall time: 6.41 s\n"
     ]
    }
   ],
   "source": [
    "%time nnet.train(X_train, y_train)"
   ]
  },
  {
   "cell_type": "code",
   "execution_count": 7,
   "metadata": {},
   "outputs": [
    {
     "data": {
      "text/plain": [
       "array([[9.93793852e-01, 6.92238672e-12, 1.03264484e-03, ...,\n",
       "        1.02942196e-08, 8.99979292e-05, 5.84514461e-07],\n",
       "       [1.97294949e-08, 1.96927376e-07, 2.25584457e-07, ...,\n",
       "        2.02678165e-02, 1.05943872e-03, 9.77857953e-01],\n",
       "       [7.65107805e-07, 3.86853353e-07, 7.59261593e-06, ...,\n",
       "        1.26822029e-02, 8.94650320e-05, 3.69709143e-03],\n",
       "       ...,\n",
       "       [1.69657009e-04, 1.42136688e-06, 8.70756995e-04, ...,\n",
       "        9.18023417e-07, 2.09250744e-01, 5.58582147e-04],\n",
       "       [9.99027284e-01, 2.17257126e-07, 3.64293750e-04, ...,\n",
       "        4.37854769e-04, 8.08488529e-07, 1.97393544e-07],\n",
       "       [2.40707582e-06, 9.45823445e-10, 9.98497324e-01, ...,\n",
       "        1.60760147e-08, 1.30811182e-05, 4.49978023e-05]])"
      ]
     },
     "execution_count": 7,
     "metadata": {},
     "output_type": "execute_result"
    }
   ],
   "source": [
    "y_predict = nnet.predict(X_test)\n",
    "y_predict"
   ]
  },
  {
   "cell_type": "markdown",
   "metadata": {},
   "source": [
    "Нейронная сеть возвращает матрицу вероятностей, каждая строка, в которой содержатся вероятности для каждого числа, соответствует входному образцу на этой же строке. Построчная сумма вероятностей равна единице (из определения _Softmax_):"
   ]
  },
  {
   "cell_type": "code",
   "execution_count": 8,
   "metadata": {},
   "outputs": [
    {
     "data": {
      "text/plain": [
       "0.9999999999999998"
      ]
     },
     "execution_count": 8,
     "metadata": {},
     "output_type": "execute_result"
    }
   ],
   "source": [
    "y_predict[0].sum()"
   ]
  },
  {
   "cell_type": "markdown",
   "metadata": {},
   "source": [
    "Для получения числа из каждой строки, нужно взять индекс максимума для каждой строки (индексы соответствуют меткам):"
   ]
  },
  {
   "cell_type": "code",
   "execution_count": 9,
   "metadata": {},
   "outputs": [],
   "source": [
    "y_predict = np.argmax(y_predict, axis=1)"
   ]
  },
  {
   "cell_type": "code",
   "execution_count": 10,
   "metadata": {},
   "outputs": [
    {
     "data": {
      "text/plain": [
       "0.9173809523809524"
      ]
     },
     "execution_count": 10,
     "metadata": {},
     "output_type": "execute_result"
    }
   ],
   "source": [
    "(y_predict == y_test).mean()"
   ]
  },
  {
   "cell_type": "markdown",
   "metadata": {},
   "source": [
    "При всех повторных запусках точность была больше $90\\%$, но не исключено, что она может быть низкой из-за неудачного начального распределения весов при обучении."
   ]
  },
  {
   "cell_type": "markdown",
   "metadata": {},
   "source": [
    "Матрица ошибок имеет вид:"
   ]
  },
  {
   "cell_type": "code",
   "execution_count": 11,
   "metadata": {},
   "outputs": [
    {
     "data": {
      "text/plain": [
       "<sklearn.metrics._plot.confusion_matrix.ConfusionMatrixDisplay at 0x7fe2283b1b50>"
      ]
     },
     "execution_count": 11,
     "metadata": {},
     "output_type": "execute_result"
    },
    {
     "data": {
      "image/png": "[encoded data removed]",
      "text/plain": [
       "<Figure size 432x288 with 2 Axes>"
      ]
     },
     "metadata": {
      "needs_background": "light"
     },
     "output_type": "display_data"
    }
   ],
   "source": [
    "ConfusionMatrixDisplay(confusion_matrix(y_test, y_predict)).plot()"
   ]
  },
  {
   "cell_type": "markdown",
   "metadata": {},
   "source": [
    "Интересно заметить, что большая часть ошибок появляется при определении числа 5."
   ]
  },
  {
   "cell_type": "markdown",
   "metadata": {},
   "source": [
    "Текущая конфигурация системы работает достаточно хорошо, но не достаточно быстро (~6 секунд за одну тренировку), что не есть хорошо. Скорость можно улучшить следующими способами:\n",
    "\n",
    "* Уменьшить количество эпох;\n",
    "* Увеличить коэффициент скорости тренировки;\n",
    "* Увеличить количество обрабатываемых данных за один проход (размер батчей).\n",
    "\n",
    "Начинать лучше с последнего метода, так как первый метод имеет большой шанс уменьшения точности, а второй - риск, что тренировка будет перескакивать минимум. Третий метод является наилучшим (хотя бы в данном случае), так как для таких больших данных явно теряется скорость из-за обработки только пяти образцов за раз. Пусть сеть будет обрабатывать за раз 20 образцов (остальные настройки те же):"
   ]
  },
  {
   "cell_type": "code",
   "execution_count": 12,
   "metadata": {},
   "outputs": [],
   "source": [
    "nnet = NeuralNetwork()\n",
    "nnet.configure(epoch=10, learning_rate=0.03, batch_size=20)\n",
    "nnet.add_layer(Layer(784, 10))\n",
    "nnet.add_layer(Softmax())"
   ]
  },
  {
   "cell_type": "code",
   "execution_count": 13,
   "metadata": {},
   "outputs": [
    {
     "name": "stdout",
     "output_type": "stream",
     "text": [
      "CPU times: user 2.35 s, sys: 7.07 ms, total: 2.36 s\n",
      "Wall time: 2.37 s\n"
     ]
    }
   ],
   "source": [
    "%time nnet.train(X_train, y_train)"
   ]
  },
  {
   "cell_type": "code",
   "execution_count": 14,
   "metadata": {},
   "outputs": [
    {
     "data": {
      "text/plain": [
       "0.9176190476190477"
      ]
     },
     "execution_count": 14,
     "metadata": {},
     "output_type": "execute_result"
    }
   ],
   "source": [
    "y_predict = np.argmax(nnet.predict(X_test), axis=1)\n",
    "(y_predict == y_test).mean()"
   ]
  },
  {
   "cell_type": "markdown",
   "metadata": {},
   "source": [
    "Точность сравнительно не изменилась, но скорость явно увеличилась в три раза."
   ]
  },
  {
   "cell_type": "markdown",
   "metadata": {},
   "source": [
    "Для графической демонстрации, тренировка нейронной сети будет выполняться одну эпоху, после чего высчитывается текущая точность. Это повторится 10 раз, что эквивалентно тренировки в промежутке 10 эпох:"
   ]
  },
  {
   "cell_type": "code",
   "execution_count": 15,
   "metadata": {},
   "outputs": [
    {
     "data": {
      "image/png": "[encoded data removed]",
      "text/plain": [
       "<Figure size 432x288 with 1 Axes>"
      ]
     },
     "metadata": {
      "needs_background": "light"
     },
     "output_type": "display_data"
    }
   ],
   "source": [
    "def get_loss_acc(net, x, y, loss=CrossEntropyLoss()):\n",
    "    y_pred = net._forward_calc(x)\n",
    "    l = loss.calc_forward(y_pred, y)\n",
    "    pred = np.argmax(y_pred, axis=1)\n",
    "    acc = (pred == y).mean()\n",
    "    return l, acc\n",
    "\n",
    "def train_plot(net, count=30):\n",
    "    train_accuracies = []\n",
    "    test_accuracies  = []\n",
    "    \n",
    "    for i in range(count + 1):\n",
    "        _, train_a = get_loss_acc(nnet, X_train, y_train)\n",
    "        _, test_a  = get_loss_acc(nnet, X_test, y_test)\n",
    "        \n",
    "        train_accuracies.append(train_a)\n",
    "        test_accuracies.append(test_a)\n",
    "        \n",
    "        nnet.train(X_train, y_train)\n",
    "\n",
    "    plt.plot(range(count + 1), train_accuracies, 'g-')\n",
    "    plt.plot(range(count + 1), test_accuracies,  'k--')\n",
    "    plt.legend(['Training accuracy', 'Validation accuracy'], loc='lower center')\n",
    "    plt.show()\n",
    "    \n",
    "nnet = NeuralNetwork()\n",
    "nnet.configure(epoch=1, learning_rate=0.03, batch_size=20)\n",
    "nnet.add_layer(Layer(784, 10))\n",
    "nnet.add_layer(Softmax())\n",
    "train_plot(nnet, 10)"
   ]
  },
  {
   "cell_type": "markdown",
   "metadata": {},
   "source": [
    "Из графика можно сделать два вывода:\n",
    "* Уже после первой эпохи точность близка к предельно возможной для данной конфигурации\n",
    "* Разность между точностями на обучающих и тренировочных образцах минимальна, что означает отсутствие переобучения"
   ]
  },
  {
   "cell_type": "markdown",
   "metadata": {},
   "source": [
    "Стоит еще дополнительно заметить, что процент точности можно увеличить, если увеличить количество промежуточных нейронов (но для этого нужно добавить дополнительный слой):"
   ]
  },
  {
   "cell_type": "code",
   "execution_count": 16,
   "metadata": {},
   "outputs": [
    {
     "name": "stdout",
     "output_type": "stream",
     "text": [
      "CPU times: user 52.4 s, sys: 54 s, total: 1min 46s\n",
      "Wall time: 13.8 s\n"
     ]
    },
    {
     "data": {
      "text/plain": [
       "0.9542063492063492"
      ]
     },
     "execution_count": 16,
     "metadata": {},
     "output_type": "execute_result"
    }
   ],
   "source": [
    "nnet = NeuralNetwork()\n",
    "nnet.configure(epoch=10, learning_rate=0.03, batch_size=20)\n",
    "nnet.add_layer(Layer(784, 128, activator_type='tanh'))\n",
    "nnet.add_layer(Layer(128, 10))\n",
    "nnet.add_layer(Softmax())\n",
    "\n",
    "%time nnet.train(X_train, y_train)\n",
    "\n",
    "y_predict = np.argmax(nnet.predict(X_test), axis=1)\n",
    "(y_predict == y_test).mean()"
   ]
  },
  {
   "cell_type": "markdown",
   "metadata": {},
   "source": [
    "Но для этих 4-5 процент уходит много ресурсов, поэтому так следует поступать только при необходимости."
   ]
  },
  {
   "cell_type": "markdown",
   "metadata": {},
   "source": [
    "В качестве примера можно еще рассмотреть датасет `Fashion MINST`, \n",
    "в котором содержутся монотонные $28х28$ картинки одежды и соответствующие ей категории:"
   ]
  },
  {
   "cell_type": "code",
   "execution_count": 26,
   "metadata": {},
   "outputs": [
    {
     "name": "stdout",
     "output_type": "stream",
     "text": [
      "[2 9 6 ... 8 8 7]\n",
      "(60000, 784)\n"
     ]
    }
   ],
   "source": [
    "data_folder = \"data/fashion-mnist\"\n",
    "train = pd.read_csv(data_folder + \"/fashion-mnist_train.csv\").values\n",
    "test = pd.read_csv(data_folder + \"/fashion-mnist_test.csv\").values\n",
    "\n",
    "y_train, X_train = train[:, 0], train[:, 1:]\n",
    "y_test, X_test = test[:, 0], test[:, 1:]\n",
    "print(y_train)\n",
    "print(X_train.shape)"
   ]
  },
  {
   "cell_type": "markdown",
   "metadata": {},
   "source": [
    "Данные могут принимать значения в промежутке $[0, 255]$ и, если их не нормализовать, можно не только потерять точность, но и получить переполнение."
   ]
  },
  {
   "cell_type": "code",
   "execution_count": 27,
   "metadata": {},
   "outputs": [
    {
     "data": {
      "text/plain": [
       "1.0"
      ]
     },
     "execution_count": 27,
     "metadata": {},
     "output_type": "execute_result"
    }
   ],
   "source": [
    "X_train = X_train / 255\n",
    "X_test = X_test / 255\n",
    "np.max(X_train)"
   ]
  },
  {
   "cell_type": "markdown",
   "metadata": {},
   "source": [
    "Так как количество входных параметров совпадает, можно воспользоваться нейронной сетью с той же конфигурацией."
   ]
  },
  {
   "cell_type": "code",
   "execution_count": 28,
   "metadata": {},
   "outputs": [
    {
     "name": "stdout",
     "output_type": "stream",
     "text": [
      "CPU times: user 5.57 s, sys: 388 µs, total: 5.57 s\n",
      "Wall time: 5.58 s\n"
     ]
    },
    {
     "data": {
      "text/plain": [
       "0.855"
      ]
     },
     "execution_count": 28,
     "metadata": {},
     "output_type": "execute_result"
    }
   ],
   "source": [
    "nnet = NeuralNetwork()\n",
    "nnet.configure(epoch=10, learning_rate=0.03, batch_size=20)\n",
    "nnet.add_layer(Layer(784, 10))\n",
    "nnet.add_layer(Softmax())\n",
    "\n",
    "%time nnet.train(X_train, y_train)\n",
    "\n",
    "y_predict = np.argmax(nnet.predict(X_test), axis=1)\n",
    "(y_predict == y_test).mean()"
   ]
  },
  {
   "cell_type": "markdown",
   "metadata": {},
   "source": [
    "Для однослойной нейронной сети точность в $85%$ средняя, и для ее повышения можно \n",
    "воспользоваться сверточными слоями (т.е. сверточ"
   ]
  }
 ],
 "metadata": {
  "kernelspec": {
   "display_name": "Python 3",
   "language": "python",
   "name": "python3"
  },
  "language_info": {
   "codemirror_mode": {
    "name": "ipython",
    "version": 3
   },
   "file_extension": ".py",
   "mimetype": "text/x-python",
   "name": "python",
   "nbconvert_exporter": "python",
   "pygments_lexer": "ipython3",
   "version": "3.9.5"
  }
 },
 "nbformat": 4,
 "nbformat_minor": 2
}
