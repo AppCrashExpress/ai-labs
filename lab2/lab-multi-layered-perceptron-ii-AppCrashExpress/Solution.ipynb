{
 "cells": [
  {
   "cell_type": "markdown",
   "metadata": {},
   "source": [
    "## Лабораторная работа по курсу \"Искусственный интеллект\"\n",
    "## Многослойный персептрон\n",
    "\n",
    "| Студент |  Ефимов  |\n",
    "|---------|----------|\n",
    "| Группа  | М8О-307Б |\n",
    "\n",
    "Используемый датасет представляет собой множество монотонных $28x28$ картинок одежды, заранее\n",
    "классифицированных по виду, доступен [по ссылке](https://github.com/zalandoresearch/fashion-mnist)."
   ]
  },
  {
   "cell_type": "code",
   "execution_count": 1,
   "metadata": {
    "tags": []
   },
   "outputs": [],
   "source": [
    "data_folder = \"data/fashion-mnist/\"\n",
    "# !curl -o {data_folder + \"mnist.pkl.gz\"} https://raw.githubusercontent.com/shwars/NeuroWorkshop/master/Data/MNIST/mnist.pkl.gz\n",
    "# !gzip -d {data_folder + \"mnist.pkl.gz\"}"
   ]
  },
  {
   "cell_type": "markdown",
   "metadata": {},
   "source": [
    "Перед загрузкой данных следует заранее добавить все используемые библиотеки:"
   ]
  },
  {
   "cell_type": "code",
   "execution_count": 2,
   "metadata": {},
   "outputs": [],
   "source": [
    "import torch\n",
    "import torch.nn.functional as F\n",
    "import pickle\n",
    "import pandas as pd\n",
    "import matplotlib.pyplot as plt \n",
    "\n",
    "from torch import nn\n",
    "from torch.utils.data import TensorDataset, DataLoader\n",
    "from sklearn.metrics         import confusion_matrix, ConfusionMatrixDisplay"
   ]
  },
  {
   "cell_type": "markdown",
   "metadata": {},
   "source": [
    "Собственно сама загрузка данных:"
   ]
  },
  {
   "cell_type": "code",
   "execution_count": 3,
   "metadata": {},
   "outputs": [
    {
     "name": "stdout",
     "output_type": "stream",
     "text": [
      "[2 9 6 ... 8 8 7]\n",
      "(60000, 784)\n"
     ]
    }
   ],
   "source": [
    "train = pd.read_csv(data_folder + \"/fashion-mnist_train.csv\").values\n",
    "test = pd.read_csv(data_folder + \"/fashion-mnist_test.csv\").values\n",
    "\n",
    "y_train, X_train = train[:, 0], train[:, 1:]\n",
    "y_test, X_test = test[:, 0], test[:, 1:]\n",
    "print(y_train)\n",
    "print(X_train.shape)"
   ]
  },
  {
   "cell_type": "markdown",
   "metadata": {},
   "source": [
    "Данные можно загрузить в более доступный для нейронных сетей формат - тензоры."
   ]
  },
  {
   "cell_type": "code",
   "execution_count": 4,
   "metadata": {},
   "outputs": [],
   "source": [
    "X_train = torch.tensor(X_train, dtype=torch.float32).div_(255)\n",
    "X_test = torch.tensor(X_test, dtype=torch.float32).div_(255)\n",
    "y_train = torch.tensor(y_train, dtype=torch.int64)\n",
    "y_test = torch.tensor(y_test, dtype=torch.int64)"
   ]
  },
  {
   "cell_type": "markdown",
   "metadata": {},
   "source": [
    "Особенности нормализуются сразу (делением на $255$).\n",
    "\n",
    "Полученные данные легче загрузить во встроенный организатор данных:"
   ]
  },
  {
   "cell_type": "code",
   "execution_count": 5,
   "metadata": {},
   "outputs": [],
   "source": [
    "train_set    = TensorDataset(X_train, y_train)\n",
    "train_loader = DataLoader(train_set, batch_size=20)\n",
    "\n",
    "test_set    = TensorDataset(X_test, y_test)\n",
    "test_loader = DataLoader(test_set, batch_size=20)"
   ]
  },
  {
   "cell_type": "markdown",
   "metadata": {},
   "source": [
    "`Pytorch` позволяет собрать из готовых классов, содержащих функции для работы над тензорами, нейронную сеть для своих целей. Следующий класс содержит два линейных слоя, разделенных функцией активации __Tanh__, и слой __Softmax__."
   ]
  },
  {
   "cell_type": "code",
   "execution_count": 6,
   "metadata": {},
   "outputs": [],
   "source": [
    "class SimpleNet(nn.Module):\n",
    "    def __init__(self, hidden_layer_count=128):\n",
    "        super().__init__()\n",
    "        self.l1 = nn.Linear(784, hidden_layer_count)\n",
    "        self.l2 = nn.Tanh()\n",
    "        self.l3 = nn.Linear(hidden_layer_count, 10)\n",
    "        self.l4 = nn.Softmax(dim=1)\n",
    "\n",
    "    def forward(self, data):\n",
    "        data = self.l1(data)\n",
    "        data = self.l2(data)\n",
    "        data = self.l3(data)\n",
    "        data = self.l4(data)\n",
    "        return data"
   ]
  },
  {
   "cell_type": "markdown",
   "metadata": {},
   "source": [
    "У этого класса нет метода тренировки, а функции оптимизатора и счетчик потерь вынесены в отдельные классы\n",
    "отдельные классы, поэтому необходимо задать дополнительную функцию, выполняющую тренировку (в данном случае\n",
    "оптимизатор - _stochastic gradient descent_):"
   ]
  },
  {
   "cell_type": "code",
   "execution_count": 7,
   "metadata": {},
   "outputs": [],
   "source": [
    "def train(net, dataloader, lr=0.03, loss_f=None):\n",
    "    net.train()\n",
    "    if loss_f is None:\n",
    "        loss_f = nn.CrossEntropyLoss()\n",
    "    \n",
    "    optimizer = torch.optim.SGD(net.parameters(), lr)\n",
    "    for (x, y) in dataloader:\n",
    "        optimizer.zero_grad()\n",
    "        data = net(x)\n",
    "        loss = loss_f(data, y)\n",
    "        loss.backward()\n",
    "        optimizer.step()\n",
    "\n",
    "@torch.no_grad()\n",
    "def get_accuracy(net, data, labels):\n",
    "    net.eval()\n",
    "    y_predict = net.forward(data)\n",
    "    y_predict = torch.argmax(y_predict, dim=1)\n",
    "    comp = (y_predict == labels)\n",
    "    return comp.sum() / comp.shape[0]\n",
    "        \n",
    "def train_graph(net, epoch=10):\n",
    "    train_accuracies = []\n",
    "    test_accuracies  = []\n",
    "    \n",
    "    for _ in range(epoch + 1):\n",
    "        train_accuracies.append(get_accuracy(net, X_train, y_train))\n",
    "        test_accuracies.append(get_accuracy(net, X_test, y_test))\n",
    "        \n",
    "        train(net, train_loader)\n",
    "\n",
    "    plt.plot(range(epoch + 1), train_accuracies, 'g-')\n",
    "    plt.plot(range(epoch + 1), test_accuracies,  'k--')\n",
    "    plt.legend(['Training accuracy', 'Validation accuracy'], loc='lower center')\n",
    "    plt.show()\n",
    "    "
   ]
  },
  {
   "cell_type": "markdown",
   "metadata": {},
   "source": [
    "Декоратор `no_grad` нужен для избежания посторения графа вычислений в обернутой функции."
   ]
  },
  {
   "cell_type": "code",
   "execution_count": 8,
   "metadata": {},
   "outputs": [
    {
     "data": {
      "image/png": "[encoded data removed]",
      "text/plain": [
       "<Figure size 432x288 with 1 Axes>"
      ]
     },
     "metadata": {
      "needs_background": "light"
     },
     "output_type": "display_data"
    },
    {
     "name": "stdout",
     "output_type": "stream",
     "text": [
      "CPU times: user 1min 34s, sys: 527 ms, total: 1min 34s\n",
      "Wall time: 24.1 s\n"
     ]
    },
    {
     "data": {
      "text/plain": [
       "tensor(0.8530)"
      ]
     },
     "execution_count": 8,
     "metadata": {},
     "output_type": "execute_result"
    }
   ],
   "source": [
    "net = SimpleNet(256)\n",
    "\n",
    "%time train_graph(net, 10)\n",
    "get_accuracy(net, X_test, y_test)"
   ]
  },
  {
   "cell_type": "markdown",
   "metadata": {},
   "source": [
    "Точность примерно $81\\%$, хуже среднего для такой модели. \n",
    "\n",
    "Можно рассмотреть подробнее ошибки классификации через матрицы:"
   ]
  },
  {
   "cell_type": "code",
   "execution_count": 9,
   "metadata": {},
   "outputs": [
    {
     "data": {
      "text/plain": [
       "<sklearn.metrics._plot.confusion_matrix.ConfusionMatrixDisplay at 0x7fb8e3b3ef70>"
      ]
     },
     "execution_count": 9,
     "metadata": {},
     "output_type": "execute_result"
    },
    {
     "data": {
      "image/png": "[encoded data removed]",
      "text/plain": [
       "<Figure size 432x288 with 2 Axes>"
      ]
     },
     "metadata": {
      "needs_background": "light"
     },
     "output_type": "display_data"
    }
   ],
   "source": [
    "net.eval()\n",
    "\n",
    "y_predict = net.forward(X_test)\n",
    "y_predict = torch.argmax(y_predict, dim=1)\n",
    "\n",
    "ConfusionMatrixDisplay(confusion_matrix(y_test, y_predict)).plot()"
   ]
  },
  {
   "cell_type": "markdown",
   "metadata": {},
   "source": [
    "Модель полностью ошиблась при определении класса 6 - рубашек, и перепутала их с футболками (0), свитерами (2) и куртками (4) (кто-бы мог подумать, что _shirt_ и _t-shirt_ это две разные вещи).\n",
    "\n",
    "Для того, чтобы их отличить, необходимо более глубокое изучение и выявление более мелких особенностей. На это способны сверточные нейронные сети, одну из которых можно построить с помощью _pytorch_."
   ]
  },
  {
   "cell_type": "markdown",
   "metadata": {},
   "source": [
    "Главная особенность сверточных нейронных сетей - это то, что они могут сварачивать несколько пикселей в единственный, таким образом рассматривая более широкую картину и выделяя особенности из большей области, нежели стандартное по-пиксельное сравнивание."
   ]
  },
  {
   "cell_type": "markdown",
   "metadata": {},
   "source": [
    "Подобрать архитектуру корректную без углубленных знаний в сверточной алгебре (есть целая книга по этому) -\n",
    "задача большой сложности, но можно использовать одну из уже готовых архитектур, в частности `LeNet`, размер входных параметров у которой ровно с размером входных объектов."
   ]
  },
  {
   "cell_type": "markdown",
   "metadata": {},
   "source": [
    "Для начала стоит начать делать высчеты на `cuda`, т.к. сверточные сети слишком сложные \n",
    "для подсчета для одного процессора:"
   ]
  },
  {
   "cell_type": "code",
   "execution_count": 10,
   "metadata": {},
   "outputs": [],
   "source": [
    "device = torch.device(\"cuda\" if torch.cuda.is_available() else \"cpu\")"
   ]
  },
  {
   "cell_type": "markdown",
   "metadata": {},
   "source": [
    "Чтобы не путаться с переменными, которые были использованы для прошлой сети, проще \n",
    "определить их заново, т.к. их нужно будет дополнительно трансформировать в 2D массив:"
   ]
  },
  {
   "cell_type": "code",
   "execution_count": 11,
   "metadata": {},
   "outputs": [],
   "source": [
    "train = pd.read_csv(data_folder + \"/fashion-mnist_train.csv\").values\n",
    "test = pd.read_csv(data_folder + \"/fashion-mnist_test.csv\").values\n",
    "\n",
    "y_train, X_train = train[:, 0], train[:, 1:]\n",
    "y_test, X_test = test[:, 0], test[:, 1:]"
   ]
  },
  {
   "cell_type": "code",
   "execution_count": 12,
   "metadata": {},
   "outputs": [
    {
     "data": {
      "text/plain": [
       "torch.Size([60000, 28, 28, 1])"
      ]
     },
     "execution_count": 12,
     "metadata": {},
     "output_type": "execute_result"
    }
   ],
   "source": [
    "X_train_tens = torch.tensor(X_train, dtype=torch.float32).div_(255)\n",
    "X_test_tens  = torch.tensor(X_test,  dtype=torch.float32).div_(255)\n",
    "y_train_tens = torch.tensor(y_train, dtype=torch.int64)\n",
    "y_test_tens  = torch.tensor(y_test,  dtype=torch.int64)\n",
    "\n",
    "X_train_tens = X_train_tens.reshape((-1, 28, 28, 1))\n",
    "X_test_tens  = X_test_tens.reshape((-1, 28, 28, 1))\n",
    "\n",
    "X_train_tens.shape"
   ]
  },
  {
   "cell_type": "markdown",
   "metadata": {},
   "source": [
    "Для этих данных нужны новые загрузчики:"
   ]
  },
  {
   "cell_type": "code",
   "execution_count": 13,
   "metadata": {},
   "outputs": [],
   "source": [
    "b_size = 100\n",
    "train_set    = TensorDataset(X_train_tens, y_train_tens)\n",
    "train_loader = DataLoader(train_set, batch_size=b_size)\n",
    "\n",
    "test_set    = TensorDataset(X_test_tens, y_test_tens)\n",
    "test_loader = DataLoader(test_set, batch_size=b_size)"
   ]
  },
  {
   "cell_type": "markdown",
   "metadata": {},
   "source": [
    "Теперь и сама модель:"
   ]
  },
  {
   "cell_type": "code",
   "execution_count": 14,
   "metadata": {},
   "outputs": [],
   "source": [
    "class CNN(nn.Module):\n",
    "    def __init__(self):\n",
    "        super(CNN, self).__init__()\n",
    "        self.conv1 = nn.Conv2d(in_channels=1, out_channels=6, kernel_size=5, padding=2)\n",
    "        self.pool1 = nn.MaxPool2d(kernel_size=2, stride=2)\n",
    "        self.conv2 = nn.Conv2d(in_channels=6, out_channels=16, kernel_size=5)\n",
    "        self.pool2 = nn.MaxPool2d(kernel_size=2, stride=2)\n",
    "        self.lin1  = nn.Linear(16*5*5, 120)\n",
    "        self.lin2  = nn.Linear(120, 84)\n",
    "        self.lin3  = nn.Linear(84, 10)\n",
    "\n",
    "        \n",
    "    def forward(self, data):\n",
    "        data = F.relu(self.conv1(data))\n",
    "        data = self.pool1(data)\n",
    "        data = F.relu(self.conv2(data))\n",
    "        data = self.pool2(data)\n",
    "        data = data.view(b_size, -1)\n",
    "        data = F.relu(self.lin1(data))\n",
    "        data = F.relu(self.lin2(data))\n",
    "        data = self.lin3(data)\n",
    "        return data"
   ]
  },
  {
   "cell_type": "code",
   "execution_count": 15,
   "metadata": {},
   "outputs": [
    {
     "name": "stdout",
     "output_type": "stream",
     "text": [
      "CNN(\n",
      "  (conv1): Conv2d(1, 6, kernel_size=(5, 5), stride=(1, 1), padding=(2, 2))\n",
      "  (pool1): MaxPool2d(kernel_size=2, stride=2, padding=0, dilation=1, ceil_mode=False)\n",
      "  (conv2): Conv2d(6, 16, kernel_size=(5, 5), stride=(1, 1))\n",
      "  (pool2): MaxPool2d(kernel_size=2, stride=2, padding=0, dilation=1, ceil_mode=False)\n",
      "  (lin1): Linear(in_features=400, out_features=120, bias=True)\n",
      "  (lin2): Linear(in_features=120, out_features=84, bias=True)\n",
      "  (lin3): Linear(in_features=84, out_features=10, bias=True)\n",
      ")\n"
     ]
    }
   ],
   "source": [
    "model = CNN()\n",
    "model.to(device)\n",
    "\n",
    "error = nn.CrossEntropyLoss()\n",
    "\n",
    "learning_rate = 0.001\n",
    "optimizer = torch.optim.Adam(model.parameters(), lr=learning_rate)\n",
    "print(model)"
   ]
  },
  {
   "cell_type": "markdown",
   "metadata": {},
   "source": [
    "Сам алгоритм обучения модели:"
   ]
  },
  {
   "cell_type": "code",
   "execution_count": 16,
   "metadata": {},
   "outputs": [
    {
     "name": "stdout",
     "output_type": "stream",
     "text": [
      "Iteration: 500, Loss: 0.6868574023246765, Accuracy: 80.13999938964844%\n",
      "Iteration: 1000, Loss: 0.5487070679664612, Accuracy: 82.58999633789062%\n",
      "Iteration: 1500, Loss: 0.34897059202194214, Accuracy: 86.25%\n",
      "Iteration: 2000, Loss: 0.404442697763443, Accuracy: 87.04000091552734%\n",
      "Iteration: 2500, Loss: 0.3781137764453888, Accuracy: 87.08999633789062%\n",
      "Iteration: 3000, Loss: 0.3843953609466553, Accuracy: 88.36000061035156%\n",
      "CPU times: user 19.8 s, sys: 74.4 ms, total: 19.9 s\n",
      "Wall time: 20 s\n"
     ]
    }
   ],
   "source": [
    "%%time\n",
    "\n",
    "from torch.autograd import Variable\n",
    "\n",
    "num_epochs = 5\n",
    "count = 0\n",
    "\n",
    "for epoch in range(num_epochs):\n",
    "    for images, labels in train_loader:\n",
    "        # Transfering images and labels to GPU if available\n",
    "        images, labels = images.to(device), labels.to(device)\n",
    "    \n",
    "        train = Variable(images.view(b_size, 1, 28, 28))\n",
    "        labels = Variable(labels)\n",
    "        \n",
    "        # Forward pass \n",
    "        outputs = model(train)\n",
    "        loss = error(outputs, labels)\n",
    "        \n",
    "        # Initializing a gradient as 0 so there is no mixing of gradient among the batches\n",
    "        optimizer.zero_grad()\n",
    "        \n",
    "        #Propagating the error backward\n",
    "        loss.backward()\n",
    "        \n",
    "        # Optimizing the parameters\n",
    "        optimizer.step()\n",
    "    \n",
    "        count += 1\n",
    "    \n",
    "    # Testing the model\n",
    "    \n",
    "        if not (count % 50):    # It's same as \"if count % 50 == 0\"\n",
    "            total = 0\n",
    "            correct = 0\n",
    "            \n",
    "            model.eval()\n",
    "            \n",
    "            for images, labels in test_loader:\n",
    "                images, labels = images.to(device), labels.to(device)\n",
    "            \n",
    "                test = Variable(images.view(b_size, 1, 28, 28))\n",
    "            \n",
    "                outputs = model(test)\n",
    "            \n",
    "                predictions = torch.max(outputs, 1)[1].to(device)\n",
    "                \n",
    "                correct += (predictions == labels).sum()            \n",
    "                total += len(labels)\n",
    "\n",
    "            model.train()\n",
    "\n",
    "            accuracy = correct * 100 / total\n",
    "        \n",
    "        if not (count % 500):\n",
    "            print(\"Iteration: {}, Loss: {}, Accuracy: {}%\".format(count, loss.data, accuracy))"
   ]
  },
  {
   "cell_type": "markdown",
   "metadata": {},
   "source": [
    "Модель можно продолжать обучать, но тогда возникнет риск переобучения (особенно потому, что здесь нет ни одного dropout слоя). Матрица тогда будет иметь вид:"
   ]
  },
  {
   "cell_type": "code",
   "execution_count": 18,
   "metadata": {},
   "outputs": [
    {
     "data": {
      "text/plain": [
       "<sklearn.metrics._plot.confusion_matrix.ConfusionMatrixDisplay at 0x7fb8e38f0280>"
      ]
     },
     "execution_count": 18,
     "metadata": {},
     "output_type": "execute_result"
    },
    {
     "data": {
      "image/png": "[encoded data removed]",
      "text/plain": [
       "<Figure size 432x288 with 2 Axes>"
      ]
     },
     "metadata": {
      "needs_background": "light"
     },
     "output_type": "display_data"
    }
   ],
   "source": [
    "y_test = []\n",
    "y_predict = []\n",
    "\n",
    "model.eval()\n",
    "for images, labels in test_loader:\n",
    "    images, labels = images.to(device), labels.to(device)\n",
    "    y_test.append(labels)\n",
    "            \n",
    "    test = Variable(images.view(b_size, 1, 28, 28))\n",
    "            \n",
    "    outputs = model(test)\n",
    "            \n",
    "    predictions = torch.max(outputs, 1)[1].to(device)\n",
    "    y_predict.append(predictions)\n",
    "    \n",
    "y_test    = torch.cat(y_test).cpu().numpy()\n",
    "y_predict = torch.cat(y_predict).cpu().numpy()\n",
    "ConfusionMatrixDisplay(confusion_matrix(y_test, y_predict)).plot()"
   ]
  },
  {
   "cell_type": "markdown",
   "metadata": {},
   "source": [
    "Явно видно, что еще модель все еще путает футболко-подобную одежду, но тем не менее это значительно лучше простой по-пиксельной модели."
   ]
  }
 ],
 "metadata": {
  "kernelspec": {
   "display_name": "Python 3",
   "language": "python",
   "name": "python3"
  },
  "language_info": {
   "codemirror_mode": {
    "name": "ipython",
    "version": 3
   },
   "file_extension": ".py",
   "mimetype": "text/x-python",
   "name": "python",
   "nbconvert_exporter": "python",
   "pygments_lexer": "ipython3",
   "version": "3.9.5"
  }
 },
 "nbformat": 4,
 "nbformat_minor": 2
}
